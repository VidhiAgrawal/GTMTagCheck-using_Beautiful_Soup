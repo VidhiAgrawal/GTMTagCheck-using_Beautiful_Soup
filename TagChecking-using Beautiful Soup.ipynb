{
 "cells": [
  {
   "cell_type": "code",
   "execution_count": 2,
   "metadata": {},
   "outputs": [
    {
     "name": "stdout",
     "output_type": "stream",
     "text": [
      "https://www.amazon.in/ , No\n",
      "https://www.amazon.in/your-account , No\n",
      "http://www.amazon.in/gp/site-directory , No\n",
      "https://www.amazon.in/mobile-phones/b?ie=UTF8&node=1389401031 , No\n",
      "https://www.amazon.in/electronics/b?ie=UTF8&node=976419031 , No\n",
      "https://www.amazon.in/gp/prime/pipeline/landing?ie=UTF8&ref_=nav_prime_try_btn , No\n",
      "https://www.performics.com/in/\n",
      " , Yes\n",
      "https://www.performics.com/in/services-we-offer-performics-india/search-engine-marketing-social-media-ads-performics-india/ , Yes\n"
     ]
    }
   ],
   "source": [
    "import requests\n",
    "\n",
    "input_file = open('input2.txt', 'r')\n",
    "lines = input_file.readlines()\n",
    "\n",
    "for line in lines:\n",
    "    #print(line)\n",
    "    soup = requests.get(line).text\n",
    "    #print(soup)\n",
    "    #print(soup)\n",
    "    if ('gtag.js' in soup) or ('analytics.js' in soup) or ('ga.js' in soup) or ('gtm.js' in soup) or ('GTM' in soup):\n",
    "        print(line, \", Yes\")\n",
    "    else:\n",
    "        print(line[0:-1], \", No\")"
   ]
  },
  {
   "cell_type": "code",
   "execution_count": null,
   "metadata": {},
   "outputs": [],
   "source": []
  }
 ],
 "metadata": {
  "kernelspec": {
   "display_name": "Python 3",
   "language": "python",
   "name": "python3"
  },
  "language_info": {
   "codemirror_mode": {
    "name": "ipython",
    "version": 3
   },
   "file_extension": ".py",
   "mimetype": "text/x-python",
   "name": "python",
   "nbconvert_exporter": "python",
   "pygments_lexer": "ipython3",
   "version": "3.7.3"
  }
 },
 "nbformat": 4,
 "nbformat_minor": 2
}
